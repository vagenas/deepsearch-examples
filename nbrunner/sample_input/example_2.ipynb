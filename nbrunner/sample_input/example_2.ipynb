{
 "cells": [
  {
   "attachments": {},
   "cell_type": "markdown",
   "id": "8ee29891",
   "metadata": {},
   "source": [
    "# Example notebook\n",
    "\n",
    "Deep Search parses and interprets large collections of documents quickly and concurrently.\n",
    "These collections are stored and indexed such that you can search and retrieve any document according to their contents.\n",
    "\n",
    "### Access required\n",
    "\n",
    "The content of this notebook requires access to Deep Search capabilities which are not\n",
    "available on the public access system.\n",
    "\n",
    "[Contact us](https://ds4sd.github.io/#unlimited-access) if you are interested in exploring\n",
    "this Deep Search capabilities."
   ]
  },
  {
   "attachments": {},
   "cell_type": "markdown",
   "id": "d9727409",
   "metadata": {},
   "source": [
    "### Authentication via stored credentials\n",
    "\n",
    "In this example, we initialize the Deep Search client from the credentials\n",
    "contained in the file `../../ds-auth.json`. This can be generated with\n",
    "\n",
    "```shell\n",
    "!deepsearch login --output ../../ds-auth.json\n",
    "```\n",
    "\n",
    "More details in the [docs](https://ds4sd.github.io/deepsearch-toolkit/getting_started/#authentication)."
   ]
  },
  {
   "attachments": {},
   "cell_type": "markdown",
   "id": "d79222bc",
   "metadata": {},
   "source": [
    "### Import example dependencies"
   ]
  },
  {
   "cell_type": "code",
   "execution_count": null,
   "id": "13560ae0",
   "metadata": {},
   "outputs": [],
   "source": [
    "from pathlib import Path\n",
    "import os\n",
    "\n",
    "import deepsearch as ds\n",
    "from deepsearch.core.util.config_paths import ENV_VAR_NAME as DS_CFG_ENV_KEY"
   ]
  },
  {
   "attachments": {},
   "cell_type": "markdown",
   "id": "5d8e88b4",
   "metadata": {},
   "source": [
    "### Notebooks parameters"
   ]
  },
  {
   "cell_type": "code",
   "execution_count": null,
   "id": "1ea3cd26",
   "metadata": {},
   "outputs": [],
   "source": [
    "CONFIG_FILE = \"../../ds-auth.json\"  # location of the Deep Search configuration file"
   ]
  },
  {
   "cell_type": "markdown",
   "id": "8f8be733",
   "metadata": {},
   "source": [
    "### Connect to Deep Search"
   ]
  },
  {
   "cell_type": "code",
   "execution_count": null,
   "id": "fae4dee3",
   "metadata": {},
   "outputs": [],
   "source": [
    "# initialize Deep Search client from config file\n",
    "if DS_CFG_ENV_KEY not in os.environ:\n",
    "    os.environ[DS_CFG_ENV_KEY] = str(Path(CONFIG_FILE).resolve())\n",
    "api = ds.CpsApi.default_from_env()"
   ]
  },
  {
   "attachments": {},
   "cell_type": "markdown",
   "id": "19e47261",
   "metadata": {},
   "source": [
    "### List projects"
   ]
  },
  {
   "cell_type": "code",
   "execution_count": null,
   "id": "45beab94",
   "metadata": {},
   "outputs": [],
   "source": [
    "projects = api.projects.list()\n",
    "for proj in projects:\n",
    "    print(pr oj)"
   ]
  }
 ],
 "metadata": {
  "kernelspec": {
   "display_name": ".venv",
   "language": "python",
   "name": "python3"
  },
  "language_info": {
   "codemirror_mode": {
    "name": "ipython",
    "version": 3
   },
   "file_extension": ".py",
   "mimetype": "text/x-python",
   "name": "python",
   "nbconvert_exporter": "python",
   "pygments_lexer": "ipython3",
   "version": "3.10.9"
  },
  "vscode": {
   "interpreter": {
    "hash": "340138bb562e3e8484c5f5136f28c9b1bc029f8432d3a2944832bcc40ff83906"
   }
  }
 },
 "nbformat": 4,
 "nbformat_minor": 5
}
